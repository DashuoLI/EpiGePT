{
 "cells": [
  {
   "cell_type": "markdown",
   "id": "23a5bbe6",
   "metadata": {},
   "source": [
    "# EpiGePT tutorial"
   ]
  },
  {
   "cell_type": "markdown",
   "id": "cbb07368",
   "metadata": {},
   "source": [
    "This is a simplest tutorial on using the pre-trained EpiGePT model to predict epigenomic signals. As of September 2023, we have expanded the training data for EpiGePT to cover 105 cell types. All the data mentioned in this tutorial can be downloaded from the [Download](https://health.tsinghua.edu.cn/epigept/download.php) page. The purpose of this tutorial is to provide an example of how to use the pre-trained EpiGePT model to predict epigenomic signals for any genomic region and cell type. It's worth noting that this model has been updated to the hg38 reference genome."
   ]
  },
  {
   "cell_type": "markdown",
   "id": "7aadc79d",
   "metadata": {},
   "source": [
    "## Initialization"
   ]
  },
  {
   "cell_type": "code",
   "execution_count": 1,
   "id": "e5ad835d",
   "metadata": {},
   "outputs": [],
   "source": [
    "import torch\n",
    "import os\n",
    "from pyfasta import Fasta\n",
    "import numpy as np\n",
    "import pandas as pd\n",
    "os.environ['CUDA_VISIBLE_DEVICES']='5'\n",
    "from model_hg38 import EpiGePT\n",
    "from model_hg38.config import *\n",
    "from model_hg38.utils import *"
   ]
  },
  {
   "cell_type": "markdown",
   "id": "2b8e0ef4",
   "metadata": {},
   "source": [
    "## Load pretrained model"
   ]
  },
  {
   "cell_type": "markdown",
   "id": "7ac253c6",
   "metadata": {},
   "source": [
    "Loading parameters of the pre-trained model and the reference genome, the pretrained model can be downloaded from [here](https://health.tsinghua.edu.cn/epigept/help/model.ckpt). The reference genome can be downloaded from [here](https://health.tsinghua.edu.cn/epigept/help/hg38.fa), and the code for this tutorial can be downloaded from [here](https://health.tsinghua.edu.cn/epigept/help/code.tar.gz)."
   ]
  },
  {
   "cell_type": "code",
   "execution_count": 2,
   "id": "5167a687",
   "metadata": {},
   "outputs": [],
   "source": [
    "model = EpiGePT.EpiGePT(WORD_NUM,TF_DIM,BATCH_SIZE)\n",
    "model = load_weights(model,'pretrainModel/model.ckpt')"
   ]
  },
  {
   "cell_type": "markdown",
   "id": "5654d253",
   "metadata": {},
   "source": [
    "## Predict"
   ]
  },
  {
   "cell_type": "markdown",
   "id": "f5d6909e",
   "metadata": {},
   "source": [
    "Users need to prepare a matrix with dimensions (1000, 711), representing the binding states of these 711 transcription factors on 1000 genomic bins. This can be achieved using the HOMER tool for scanning. Additionally, a 711-dimensional vector is required, representing the TPM values of the 711 transcription factors after quantile normalization. Users can refer to this [link](https://github.com/ZjGaothu/EpiGePT) for specific instructions on how to perform these operations."
   ]
  },
  {
   "cell_type": "code",
   "execution_count": 3,
   "id": "e51bffe6",
   "metadata": {},
   "outputs": [
    {
     "data": {
      "text/plain": [
       "(1, 1000, 8)"
      ]
     },
     "execution_count": 3,
     "metadata": {},
     "output_type": "execute_result"
    }
   ],
   "source": [
    "SEQ_LENGTH = 128000\n",
    "input_tf_feature = np.random.rand(1000, 711) # 711 TFs\n",
    "input_seq_feature = np.zeros((1,4,SEQ_LENGTH))\n",
    "predict = model_predict(model,input_seq_feature,input_tf_feature)\n",
    "predict.shape # (BATCH_SIZE, Number of bins, Number of epigenomic profiles)"
   ]
  },
  {
   "cell_type": "code",
   "execution_count": null,
   "id": "6caf858d",
   "metadata": {},
   "outputs": [],
   "source": []
  }
 ],
 "metadata": {
  "kernelspec": {
   "display_name": "gaozj",
   "language": "python",
   "name": "gaozj"
  },
  "language_info": {
   "codemirror_mode": {
    "name": "ipython",
    "version": 3
   },
   "file_extension": ".py",
   "mimetype": "text/x-python",
   "name": "python",
   "nbconvert_exporter": "python",
   "pygments_lexer": "ipython3",
   "version": "3.6.9"
  },
  "toc": {
   "base_numbering": 1,
   "nav_menu": {},
   "number_sections": true,
   "sideBar": true,
   "skip_h1_title": false,
   "title_cell": "Table of Contents",
   "title_sidebar": "Contents",
   "toc_cell": false,
   "toc_position": {},
   "toc_section_display": true,
   "toc_window_display": true
  }
 },
 "nbformat": 4,
 "nbformat_minor": 5
}
